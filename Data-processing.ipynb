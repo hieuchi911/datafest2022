{
 "cells": [
  {
   "cell_type": "markdown",
   "metadata": {},
   "source": [
    "# Crawl data"
   ]
  },
  {
   "cell_type": "code",
   "execution_count": 1,
   "metadata": {},
   "outputs": [
    {
     "name": "stderr",
     "output_type": "stream",
     "text": [
      "c:\\Users\\hieuc\\Documents\\Projects\\USC\\DataFest2022\\craw-venv\\lib\\site-packages\\ipykernel_launcher.py:23: DeprecationWarning: executable_path has been deprecated, please pass in a Service object\n"
     ]
    }
   ],
   "source": [
    "from selenium import webdriver\n",
    "from selenium.webdriver.edge.options import Options\n",
    "from selenium.webdriver.common.by import By\n",
    "# from selenium.webdriver.support.ui import WebDriverWait\n",
    "# from selenium.webdriver.support import expected_conditions as EC\n",
    "# from selenium.webdriver.common.keys import Keys\n",
    "# from selenium.webdriver.common.action_chains import ActionChains\n",
    "\n",
    "# other necessary ones\n",
    "import re\n",
    "from random import random\n",
    "import csv\n",
    "# import urllib.request\n",
    "# import json\n",
    "# import datetime\n",
    "# import time\n",
    "\n",
    "\n",
    "option = Options()\n",
    "option.add_argument(\"--disable-infobars\")\n",
    "option.add_argument(\"start-maximized\")\n",
    "option.add_argument(\"--disable-extensions\")\n",
    "\n",
    "browser = webdriver.Edge(executable_path=\"msedgedriver.exe\", options=option)"
   ]
  },
  {
   "cell_type": "code",
   "execution_count": null,
   "metadata": {},
   "outputs": [],
   "source": [
    "# Extract links to issues on Github:\n",
    "browser.get(\"https://github.com/SeleniumHQ/selenium/issues?page=416&q=\")\n",
    "links = []\n",
    "while browser.find_element(By.CLASS_NAME, \"next_page\"):\n",
    "    link_els = browser.find_elements(By.CSS_SELECTOR, \".d-block.d-md-none.position-absolute.top-0.bottom-0.left-0.right-0\")\n",
    "    for l in link_els:\n",
    "        links.append(l.get_attribute(\"href\"))\n",
    "    next_page_url = browser.find_element(By.CLASS_NAME, \"next_page\")\n",
    "    next_page_url = next_page_url.get_attribute(\"href\")\n",
    "    try:\n",
    "        browser.get(next_page_url)\n",
    "    except:\n",
    "        print(\"Exception\", next_page_url)\n",
    "        break\n",
    "\n",
    "# print(links)"
   ]
  },
  {
   "cell_type": "code",
   "execution_count": 19,
   "metadata": {},
   "outputs": [],
   "source": [
    "ls = open(\"issues-urls.txt\", \"a\")\n",
    "for l in links:\n",
    "    ls.write(l + \"\\n\")"
   ]
  },
  {
   "cell_type": "code",
   "execution_count": null,
   "metadata": {},
   "outputs": [],
   "source": [
    "# Extract conversations from issues and write to file dataset-selenium.txt\n",
    "\n",
    "convs = []\n",
    "dataset = open(\"dataset-selenium.txt\", \"a\", encoding=\"utf-8\")\n",
    "count = 0\n",
    "for wpage in links:\n",
    "    count += 1\n",
    "    if count < 2955:\n",
    "        continue\n",
    "    browser.get(wpage)\n",
    "    conv = browser.find_elements(By.CLASS_NAME, \"edit-comment-hide\")\n",
    "    c = []\n",
    "    for turn in conv:\n",
    "        c.append(turn.text.replace(\"\\n\", \" \"))\n",
    "    # convs.append(c)\n",
    "    # print(\"\\n\\n\", \"_eot_\".join(c))\n",
    "    dataset.write(\"_eot_\".join(c) + \"\\n\")\n",
    "    # break\n",
    "\n",
    "# print(convs)"
   ]
  },
  {
   "cell_type": "markdown",
   "metadata": {},
   "source": [
    "# Clean data"
   ]
  },
  {
   "cell_type": "code",
   "execution_count": null,
   "metadata": {},
   "outputs": [],
   "source": [
    "emoj = re.compile(\"[\"\n",
    "        u\"\\U0001F600-\\U0001F64F\"  # emoticons\n",
    "        u\"\\U0001F300-\\U0001F5FF\"  # symbols & pictographs\n",
    "        u\"\\U0001F680-\\U0001F6FF\"  # transport & map symbols\n",
    "        u\"\\U0001F1E0-\\U0001F1FF\"  # flags (iOS)\n",
    "        u\"\\U00002500-\\U00002BEF\"  # chinese char\n",
    "        u\"\\U00002702-\\U000027B0\"\n",
    "        u\"\\U00002702-\\U000027B0\"\n",
    "        u\"\\U000024C2-\\U0001F251\"\n",
    "        u\"\\U0001f926-\\U0001f937\"\n",
    "        u\"\\U00010000-\\U0010ffff\"\n",
    "        u\"\\u2640-\\u2642\" \n",
    "        u\"\\u2600-\\u2B55\"\n",
    "        u\"\\u200d\"\n",
    "        u\"\\u23cf\"\n",
    "        u\"\\u23e9\"\n",
    "        u\"\\u231a\"\n",
    "        u\"\\ufe0f\"  # dingbats\n",
    "        u\"\\u3030\"\n",
    "                      \"]+\", re.UNICODE)\n",
    "\n",
    "convs = []\n",
    "flag = False\n",
    "dataset = open(\"dataset-selenium.txt\", \"r\", encoding=\"utf-8\")\n",
    "count = 0\n",
    "for conv in dataset:\n",
    "    conv = conv.lower()\n",
    "    # Remove unhelpful starting phrases\n",
    "    conv = re.sub(\"What happened?\".lower(), \"\", conv)\n",
    "    conv = re.sub(\"🐛 Bug Report\".lower(), \"\", conv)\n",
    "    conv = re.sub(\"💬 Questions and Help\".lower(), \"\", conv)\n",
    "    conv = re.sub(\"^Decription\".lower(), \"\", conv)\n",
    "    conv = re.sub(\"🚀 Feature Proposal\".lower(), \"\", conv)\n",
    "    conv = re.sub(\"💥 Regression Report\".lower(), \"\", conv)\n",
    "    \n",
    "    # Remove \"<username> reacted with <emojiname> emoji\"\n",
    "    emojis = [\"😄\", \"👍\", \"👎\", \"🎉\", \"😕\", \"❤️\", \"🚀\", \"👀\"]\n",
    "    for turn in conv.split(\"_eot_\"):\n",
    "        if len(turn) < 2:\n",
    "            continue\n",
    "        parts = turn.split()\n",
    "        length = len(parts)\n",
    "        if parts[-1] == \"emoji\":\n",
    "            for i, el in enumerate(parts):\n",
    "                if el in emojis and i < length-1:\n",
    "                    # print(f\"el is {el} is in emojis\")\n",
    "                    # print(f\"[parts[i+5], parts[i+3]] is {[parts[i+5], parts[i+3]]}\")\n",
    "                    if not parts[i+1].isdigit():\n",
    "                        continue\n",
    "                    if parts[i+1] not in [\"1\", \"2\"]: # i+2, i+3, i+4 --> [i+2:i+1+num]\n",
    "                        # print(\"in!\")\n",
    "                        # print(f\"parts[i+1] is {parts[i+1]}\")\n",
    "                        count = 0\n",
    "                        digit = int(parts[i+1])\n",
    "                        digit = 10 if digit > 10 else digit \n",
    "                        for name in parts[i+2:i+2 + digit]:\n",
    "                            # print(f\"name is {name}\")\n",
    "                            if \",\" == name[-1]:\n",
    "                                count += 1\n",
    "                        digit = digit -1 if digit < 10 else digit\n",
    "                        if count == digit:\n",
    "                            start_index = i\n",
    "                            break\n",
    "                    elif \"reacted\" in [parts[i+5], parts[i+3]]:\n",
    "                        # print(\"in 1 2!\")\n",
    "                        start_index = i\n",
    "                        break\n",
    "            parts = \" \".join(parts[:start_index])\n",
    "    # Remove emojis\n",
    "    conv = re.sub(emoj, '', conv)\n",
    "    conv = re.sub(\"====\", \"\", conv)\n",
    "    conv = re.sub(\"!!!!\", \"\", conv)\n",
    "    conv = re.sub(\"----\", \"\", conv)\n",
    "    conv = re.sub(\"\\/\\/\\/\\/\", \"\", conv)\n",
    "    conv = re.sub(\"\\.\\.\\.\\.\", \"\", conv)\n",
    "    conv = re.sub(\"\\*\\*\\*\\*\", \"\", conv)\n",
    "    conv = re.sub(\"####\", \"\", conv)\n",
    "    conv = re.sub(\"\\?\\?\\?\\?\", \"\", conv)\n",
    "    conv = re.sub(\"@[a-zA-Z_0-9\\S]+\", \"\", conv)\n",
    "    \n",
    "    if random() < 0.98:\n",
    "        conv = re.sub(\"thank you for creating this issue. we will troubleshoot it as soon as we can. Info for maintainers\".lower(), \"\", conv)\n",
    "    if random() < 0.98:\n",
    "        conv = re.sub(\"thank you for creating this issue. i am the selenium assistant bot , i triage issues in this repository. if i can't do it, i label it to help maintainers identify issues that need triaging. i am an open source project , post bugs or ideas here!\", \"\", conv)\n",
    "\n",
    "    suber_350 = \"If you are asking a question, a better way to address this is:  Send questions and support requests to the Selenium user group  Post them to StackOverflow  Join us in the IRC/Slack channel where the community can help you as well If you think this is incorrect, please feel free to open a new issue.\"\n",
    "    if suber_350.lower() in conv:\n",
    "        if random() < 0.98:\n",
    "            conv = re.sub(suber_350.lower(), \"\", conv)\n",
    "    suber_500 = \"thank you for your contribution\"\n",
    "    if suber_500.lower() in conv:\n",
    "        if random() < 0.98:\n",
    "            conv = re.sub(suber_500.lower(), \"\", conv)\n",
    "    suber_386 = \"It seems this issue is not using any of the supported templates  Supported issue types are (they start with):  (bugs found in a recent release)  (a useful feature you would like to propose)  (a supported feature is not working anymore) Issue templates help this project to stay in shape, please use them and fill them out completely. By doing that you are helping the project because the community and maintainers can provide prompt feedback, and potentially solve the issue\"\n",
    "    if suber_386.lower() in conv:\n",
    "        suber_386 = \"It seems this issue is not using any of the supported templates  Supported issue types are \\(they start with\\):  \\(bugs found in a recent release\\)  \\(a useful feature you would like to propose\\)  \\(a supported feature is not working anymore\\) Issue templates help this project to stay in shape, please use them and fill them out completely. By doing that you are helping the project because the community and maintainers can provide prompt feedback, and potentially solve the issue\"\n",
    "        if random() < 0.98:\n",
    "            conv = re.sub(suber_386.lower(), \"\", conv)\n",
    "    suber_600 = \"This issue has been automatically locked since there has not been any recent activity after it was closed. Please open a new issue for related bugs.\"\n",
    "    if suber_600.lower() in conv:\n",
    "        if random() < 0.98:\n",
    "            conv = re.sub(suber_600.lower(), \"\", conv)\n",
    "    \n",
    "    # For code snippets, concatenate them to 1 word ??\n",
    "\n",
    "    print('conv.split(\"_eot_\") is', conv.split(\"_eot_\"))\n",
    "    convs.append(conv.split(\"_eot_\"))\n",
    "    count += 1\n",
    "# print(convs)"
   ]
  },
  {
   "cell_type": "markdown",
   "metadata": {},
   "source": [
    "# Write data to Csv"
   ]
  },
  {
   "cell_type": "code",
   "execution_count": 18,
   "metadata": {},
   "outputs": [
    {
     "name": "stdout",
     "output_type": "stream",
     "text": [
      "4003\n"
     ]
    }
   ],
   "source": [
    "fields = ['Response', 'Context/0', 'Context/1', 'Context/2', 'Context/3'] \n",
    "\n",
    "# data rows of csv file \n",
    "rows = []\n",
    "for con in convs:\n",
    "    turns = [\"\"]*5\n",
    "    for i in range(5):\n",
    "        try:\n",
    "            if con[i]:\n",
    "                turns[i] = con[i]\n",
    "        except:\n",
    "            continue\n",
    "    rows.append(list(reversed(turns)))\n",
    "print(len(rows))\n",
    "# print(rows)\n",
    "with open('selenium-full-cleaned-5-turns.csv', 'w', encoding=\"utf-8\") as f:\n",
    "    # using csv.writer method from CSV package\n",
    "    write = csv.writer(f)\n",
    "      \n",
    "    write.writerow(fields)\n",
    "    write.writerows(rows)"
   ]
  },
  {
   "cell_type": "markdown",
   "metadata": {},
   "source": [
    "# Preprocess data (remove html tags) - work from Crystal"
   ]
  },
  {
   "cell_type": "code",
   "execution_count": null,
   "metadata": {},
   "outputs": [],
   "source": [
    "# import html\n",
    "\n",
    "# def clean_html(text, strip_numeric=False):\n",
    "#     \"\"\"\n",
    "#     Decode, remove characters. Words and numbers that are not html tags syntax.\n",
    "#     INPUT\n",
    "#     text            string of text\n",
    "#     strip_numeric   bool, indicates if numeric type should be stripped\n",
    "#     OUTPUT\n",
    "#     cleaned, stripped text as string\n",
    "#     \"\"\"\n",
    "#     cleaned = html.unescape(\n",
    "#         text\n",
    "#     )  # Convert all named and numeric character references (e.g. &gt;, &#62;, &x3e;) in the string s to the corresponding unicode characters\n",
    "#     # First we remove inline JavaScript/CSS:\n",
    "#     # cleaned = cleaned.lower()\n",
    "#     cleaned = re.sub(r\"(?is)<(script|style).*?>.*?(</\\1>)\", \"\", cleaned.strip())\n",
    "#     # Then we remove html comments. This has to be done before removing regular\n",
    "#     # tags since comments can contain '>' characters.\n",
    "#     cleaned = re.sub(r\"(?s)<!--(.*?)-->[\\n]?\", \"\", cleaned)\n",
    "#     # Next we can remove the remaining tags:\n",
    "#     # Next we can remove the remaining tags with the exception of meta content for description and keywords:\n",
    "#     cleaned = re.sub(r\"(?s)<(?!meta content=\\\"[^<>]+name=\\\"(?:keywords|description)\\\").*?>\", \" \", cleaned)\n",
    "#     # Now we want to clean the data to take out the meta content tags\n",
    "#     cleaned = re.sub(r\"(?:(<meta content.?\\=\\\")|(name=\\\"(?:description|keywords)\\\"\\/>))\", \"\", cleaned)\n",
    "#     # In case of any other punctuation leftover, we can remove them:\n",
    "#     # cleaned = re.sub(r\"[^\\w]\", \" \", cleaned)\n",
    "\n",
    "#     # Restrict characters\n",
    "#     if strip_numeric:\n",
    "#         cleaned = re.sub(r'[^a-zA-Z!,\\(\\)\\.]', ' ', cleaned)\n",
    "#     else:\n",
    "#         # cleaned = re.sub(r'[^a-zA-Z0-9!,\\(\\)\\.]', ' ', cleaned)\n",
    "#         pass\n",
    "\n",
    "#     cleaned = replace_two_or_more(cleaned)  # replace repetitions with a single instance\n",
    "#     # Finally, we deal with whitespace\n",
    "#     cleaned = re.sub(r\"&nbsp;\", \" \", cleaned)\n",
    "#     # cleaned = re.sub(r\"  \", \" \", cleaned)\n",
    "#     cleaned = re.sub(r'[\\s]+', ' ', cleaned)\n",
    "#     cleaned = ' '.join(cleaned.split())  # remove whitespace for readability\n",
    "#     return cleaned.strip()"
   ]
  }
 ],
 "metadata": {
  "kernelspec": {
   "display_name": "Python 3.7.9 ('craw-venv': venv)",
   "language": "python",
   "name": "python3"
  },
  "language_info": {
   "codemirror_mode": {
    "name": "ipython",
    "version": 3
   },
   "file_extension": ".py",
   "mimetype": "text/x-python",
   "name": "python",
   "nbconvert_exporter": "python",
   "pygments_lexer": "ipython3",
   "version": "3.7.9"
  },
  "orig_nbformat": 4,
  "vscode": {
   "interpreter": {
    "hash": "dfa4d7914b921a09b66994ea908899af41ad7837dbb9b3b17438ab88a02abcca"
   }
  }
 },
 "nbformat": 4,
 "nbformat_minor": 2
}
